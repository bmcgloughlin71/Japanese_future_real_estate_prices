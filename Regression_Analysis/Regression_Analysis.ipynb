{
 "cells": [
  {
   "cell_type": "markdown",
   "metadata": {},
   "source": [
    "# Regression Analysis"
   ]
  },
  {
   "cell_type": "code",
   "execution_count": 3,
   "metadata": {},
   "outputs": [],
   "source": [
    "import tensorflow as tf\n",
    "import pandas as pd"
   ]
  },
  {
   "cell_type": "code",
   "execution_count": 4,
   "metadata": {},
   "outputs": [],
   "source": [
    "train_data = pd.read_csv(\"../Data_processing/Data_Splitting/All_prefecture_Housing_training_data.csv\")\n",
    "\n",
    "cols_to_exclude = []"
   ]
  },
  {
   "cell_type": "code",
   "execution_count": null,
   "metadata": {},
   "outputs": [],
   "source": [
    "# Define the model\n",
    "model = tf.keras.Sequential([\n",
    "    \n",
    "    tf.keras.layers.InputLayer(input_shape=(train_data.shape[1] - ,)),  # Exclude the 'TradePrice' column\n",
    "    \n",
    "    # Hidden layer 1\n",
    "    tf.keras.layers.Dense(128, activation='relu'),\n",
    "    \n",
    "    # Hidden layer 2\n",
    "    tf.keras.layers.Dense(64, activation='relu'),\n",
    "    \n",
    "    # Dropout (optional, for regularization)\n",
    "    tf.keras.layers.Dropout(0.3),\n",
    "    \n",
    "    # Output layer (predicting TradePrice)\n",
    "    tf.keras.layers.Dense(1)  # No activation function, since we're predicting a continuous value\n",
    "])"
   ]
  }
 ],
 "metadata": {
  "kernelspec": {
   "display_name": "Python 3",
   "language": "python",
   "name": "python3"
  },
  "language_info": {
   "codemirror_mode": {
    "name": "ipython",
    "version": 3
   },
   "file_extension": ".py",
   "mimetype": "text/x-python",
   "name": "python",
   "nbconvert_exporter": "python",
   "pygments_lexer": "ipython3",
   "version": "3.10.8"
  }
 },
 "nbformat": 4,
 "nbformat_minor": 2
}
